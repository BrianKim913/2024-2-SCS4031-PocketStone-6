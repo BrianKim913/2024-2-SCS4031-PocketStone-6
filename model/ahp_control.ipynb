{
 "cells": [
  {
   "cell_type": "markdown",
   "metadata": {},
   "source": [
    "# 디폴트"
   ]
  },
  {
   "cell_type": "code",
   "execution_count": null,
   "metadata": {},
   "outputs": [],
   "source": [
    "import numpy as np\n",
    "import pandas as pd\n",
    "\n",
    "criteria = ['기술점수', 'KPI점수', '동료평가점수', '개인성향', '기존프로젝트']\n",
    "\n",
    "pairwise_matrix = np.array([\n",
    "    [1,   3,   3,   5,   1],\n",
    "    [1/3, 1,   1/3, 1/3, 1/5],\n",
    "    [1/3, 3,   1,   3,   1],\n",
    "    [1/5, 3,   1/3, 1,   1/3],\n",
    "    [1,   5,   1,   3,   1]\n",
    "])\n",
    "\n",
    "df = pd.DataFrame(pairwise_matrix, index=criteria, columns=criteria)\n",
    "print(df)\n",
    "\n",
    "column_sum = pairwise_matrix.sum(axis=0)\n",
    "\n",
    "normalized_matrix = pairwise_matrix / column_sum\n",
    "print(pd.DataFrame(normalized_matrix, index=criteria, columns=criteria))\n",
    "\n",
    "weights = normalized_matrix.mean(axis=1)\n",
    "for crit, weight in zip(criteria, weights):\n",
    "    print(f\"{crit}: {weight:.4f}\")\n",
    "\n",
    "result_df = pd.DataFrame({\n",
    "    '기준': criteria,\n",
    "    '가중치': weights\n",
    "}).sort_values(by='가중치', ascending=False)\n",
    "print(result_df)\n",
    "result_dict = result_df.set_index('기준')['가중치'].to_dict()\n",
    "print(result_dict)"
   ]
  },
  {
   "cell_type": "markdown",
   "metadata": {},
   "source": [
    "# 기술점수 중심"
   ]
  },
  {
   "cell_type": "code",
   "execution_count": null,
   "metadata": {},
   "outputs": [
    {
     "name": "stdout",
     "output_type": "stream",
     "text": [
      "{'기술점수': 0.43998287281031107, '기존프로젝트': 0.27960987837653867, '동료평가점수': 0.13146508399514722, '개인성향': 0.09292615627078298, 'KPI점수': 0.05601600854722012}\n"
     ]
    }
   ],
   "source": [
    "criteria = ['기술점수', 'KPI점수', '동료평가점수', '개인성향', '기존프로젝트']\n",
    "\n",
    "pairwise_matrix = np.array([\n",
    "    [1,   4,   6,   5,   2],\n",
    "    [1/4, 1,   1/4, 1/3, 1/5],\n",
    "    [1/6, 4,   1,   2,   1/3],\n",
    "    [1/5, 3,   1/2, 1,   1/4],\n",
    "    [1/2, 5,   3,   4,   1]\n",
    "])\n",
    "\n",
    "column_sum = pairwise_matrix.sum(axis=0)\n",
    "\n",
    "normalized_matrix = pairwise_matrix / column_sum\n",
    "\n",
    "weights = normalized_matrix.mean(axis=1)\n",
    "\n",
    "result_df = pd.DataFrame({\n",
    "    '기준': criteria,\n",
    "    '가중치': weights\n",
    "}).sort_values(by='가중치', ascending=False)\n",
    "\n",
    "result_dict = result_df.set_index('기준')['가중치'].to_dict()\n",
    "\n",
    "print(result_dict)"
   ]
  },
  {
   "cell_type": "markdown",
   "metadata": {},
   "source": [
    "# 도메인 중심"
   ]
  },
  {
   "cell_type": "code",
   "execution_count": null,
   "metadata": {},
   "outputs": [
    {
     "name": "stdout",
     "output_type": "stream",
     "text": [
      "{'기존프로젝트': 0.4326786863131458, '기술점수': 0.29751521171661827, '동료평가점수': 0.12521296045874045, '개인성향': 0.10482970954267226, 'KPI점수': 0.03976343196882315}\n"
     ]
    }
   ],
   "source": [
    "criteria = ['기술점수', 'KPI점수', '동료평가점수', '개인성향', '기존프로젝트']\n",
    "\n",
    "pairwise_matrix = np.array([\n",
    "    [1,   6,   3,   5,   1/2], \n",
    "    [1/6, 1,   1/4, 1/5, 1/7], \n",
    "    [1/3, 4,   1,   2,   1/5], \n",
    "    [1/5, 5,   1/2, 1,   1/4], \n",
    "    [2,   7,   5,   4,   1]    \n",
    "])\n",
    "\n",
    "column_sum = pairwise_matrix.sum(axis=0)\n",
    "\n",
    "normalized_matrix = pairwise_matrix / column_sum\n",
    "\n",
    "weights = normalized_matrix.mean(axis=1)\n",
    "\n",
    "result_df = pd.DataFrame({\n",
    "    '기준': criteria,\n",
    "    '가중치': weights\n",
    "}).sort_values(by='가중치', ascending=False)\n",
    "\n",
    "result_dict = result_df.set_index('기준')['가중치'].to_dict()\n",
    "\n",
    "print(result_dict)"
   ]
  },
  {
   "cell_type": "markdown",
   "metadata": {},
   "source": [
    "# 성향 중심"
   ]
  },
  {
   "cell_type": "code",
   "execution_count": null,
   "metadata": {},
   "outputs": [
    {
     "name": "stdout",
     "output_type": "stream",
     "text": [
      "{'개인성향': 0.40710545859141883, '기술점수': 0.22535235823819547, '기존프로젝트': 0.22535235823819547, '동료평가점수': 0.09917510241347094, 'KPI점수': 0.04301472251871924}\n"
     ]
    }
   ],
   "source": [
    "criteria = ['기술점수', 'KPI점수', '동료평가점수', '개인성향', '기존프로젝트']\n",
    "\n",
    "pairwise_matrix = np.array([\n",
    "    [1,   5,   3,   1/2, 1],    \n",
    "    [1/5, 1,   1/4, 1/7, 1/5],  \n",
    "    [1/3, 4,   1,   1/5, 1/3],  \n",
    "    [2,   7,   5,   1,   2],    \n",
    "    [1,   5,   3,   1/2, 1]     \n",
    "])\n",
    "\n",
    "\n",
    "column_sum = pairwise_matrix.sum(axis=0)\n",
    "\n",
    "normalized_matrix = pairwise_matrix / column_sum\n",
    "\n",
    "weights = normalized_matrix.mean(axis=1)\n",
    "\n",
    "result_df = pd.DataFrame({\n",
    "    '기준': criteria,\n",
    "    '가중치': weights\n",
    "}).sort_values(by='가중치', ascending=False)\n",
    "\n",
    "result_dict = result_df.set_index('기준')['가중치'].to_dict()\n",
    "\n",
    "print(result_dict)"
   ]
  },
  {
   "cell_type": "code",
   "execution_count": null,
   "metadata": {},
   "outputs": [],
   "source": []
  }
 ],
 "metadata": {
  "kernelspec": {
   "display_name": "base",
   "language": "python",
   "name": "python3"
  },
  "language_info": {
   "codemirror_mode": {
    "name": "ipython",
    "version": 3
   },
   "file_extension": ".py",
   "mimetype": "text/x-python",
   "name": "python",
   "nbconvert_exporter": "python",
   "pygments_lexer": "ipython3",
   "version": "3.12.4"
  }
 },
 "nbformat": 4,
 "nbformat_minor": 2
}
